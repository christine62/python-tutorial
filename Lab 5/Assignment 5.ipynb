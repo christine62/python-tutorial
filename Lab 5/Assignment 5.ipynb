{
 "cells": [
  {
   "cell_type": "markdown",
   "metadata": {},
   "source": [
    "Use networkx to create and plot a graph that looks like the following. Consider it as an internal email communication network.\n",
    "\n",
    "1. How many nodes and edges are in the graph?  \n",
    "2. Is it possible for information to go from every user to every other user?  \n",
    "3. How many nodes are in the largest strongly connected component?  \n",
    "4. What's the average shortest path length?  \n",
    "5. What is the largest possible distance between two users?\n",
    "\n",
    "<img src=\"https://github.com/christine62/python-tutorial/blob/master/image/network1.6.png?raw=true\" width=45%>"
   ]
  },
  {
   "cell_type": "code",
   "execution_count": 3,
   "metadata": {},
   "outputs": [],
   "source": [
    "import networkx as nx"
   ]
  },
  {
   "cell_type": "code",
   "execution_count": 9,
   "metadata": {},
   "outputs": [],
   "source": [
    "G=nx.DiGraph()\n",
    "#G.add_edge('A','B',weight=6,relation='famliy')\n",
    "#G.add_edge('C','B',weight=13,relation='friend')\n",
    "G.add_edges_from([('A','B',{'weight':6,'relation':'family'}),\n",
    "                 ('C','B',{'weight':13,'relation':'friend'}),\n",
    "                 ('C','E',{'weight':25,'relation':'neighbor'}),\n",
    "                 ('C','F',{'weight':21,'relation':'coworker'}),\n",
    "                 ('D','E',{'weight':2,'relation':'coworker'}),\n",
    "                 ('I','E',{'weight':10,'relation':'coworker'}),\n",
    "                 ('I','J',{'weight':3,'relation':'coworker'}),\n",
    "                 ('J','E',{'weight':15,'relation':'family'}),\n",
    "                 ('E','H',{'weight':9,'relation':'coworker'}),\n",
    "                 ('G','F',{'weight':9,'relation':'friend'})\n",
    "                 ])"
   ]
  },
  {
   "cell_type": "code",
   "execution_count": 11,
   "metadata": {},
   "outputs": [
    {
     "data": {
      "image/png": "[encoded data removed]",
      "text/plain": [
       "<Figure size 432x288 with 1 Axes>"
      ]
     },
     "metadata": {},
     "output_type": "display_data"
    }
   ],
   "source": [
    "nx.draw_networkx(G)\n",
    "plt.show()"
   ]
  },
  {
   "cell_type": "code",
   "execution_count": 8,
   "metadata": {},
   "outputs": [
    {
     "data": {
      "text/plain": [
       "OutEdgeDataView([('a', 'b', {'weight': 6, 'relation': 'friend'}), ('c', 'b', {'weight': 6, 'relation': 'friend'})])"
      ]
     },
     "execution_count": 8,
     "metadata": {},
     "output_type": "execute_result"
    }
   ],
   "source": [
    "G.edges(data=True)"
   ]
  },
  {
   "cell_type": "code",
   "execution_count": 12,
   "metadata": {},
   "outputs": [
    {
     "data": {
      "text/plain": [
       "10"
      ]
     },
     "execution_count": 12,
     "metadata": {},
     "output_type": "execute_result"
    },
    {
     "data": {
      "text/plain": [
       "10"
      ]
     },
     "execution_count": 12,
     "metadata": {},
     "output_type": "execute_result"
    }
   ],
   "source": [
    "#How many nodes and edges are in the graph?\n",
    "G.number_of_nodes()\n",
    "G.number_of_edges()"
   ]
  },
  {
   "cell_type": "code",
   "execution_count": 13,
   "metadata": {},
   "outputs": [
    {
     "data": {
      "text/plain": [
       "False"
      ]
     },
     "execution_count": 13,
     "metadata": {},
     "output_type": "execute_result"
    }
   ],
   "source": [
    "#Is it possible for information to go from every user to every other user?\n",
    "nx.is_strongly_connected(G)"
   ]
  },
  {
   "cell_type": "code",
   "execution_count": 16,
   "metadata": {},
   "outputs": [
    {
     "data": {
      "text/plain": [
       "[{'B'}, {'A'}, {'H'}, {'E'}, {'F'}, {'C'}, {'D'}, {'J'}, {'I'}, {'G'}]"
      ]
     },
     "execution_count": 16,
     "metadata": {},
     "output_type": "execute_result"
    }
   ],
   "source": [
    "#How many nodes are in the largest strongly connected component?\n",
    "sorted(nx.strongly_connected_components(G))"
   ]
  },
  {
   "cell_type": "code",
   "execution_count": 17,
   "metadata": {},
   "outputs": [
    {
     "data": {
      "text/plain": [
       "0.2"
      ]
     },
     "execution_count": 17,
     "metadata": {},
     "output_type": "execute_result"
    }
   ],
   "source": [
    "#What's the average shortest path length?\n",
    "nx.average_shortest_path_length(G)"
   ]
  },
  {
   "cell_type": "code",
   "execution_count": 19,
   "metadata": {},
   "outputs": [],
   "source": [
    "G_un=G.to_undirected()"
   ]
  },
  {
   "cell_type": "code",
   "execution_count": 20,
   "metadata": {},
   "outputs": [
    {
     "data": {
      "text/plain": [
       "4"
      ]
     },
     "execution_count": 20,
     "metadata": {},
     "output_type": "execute_result"
    }
   ],
   "source": [
    "#What is the largest possible distance between two users?\n",
    "nx.diameter(G_un)"
   ]
  },
  {
   "cell_type": "code",
   "execution_count": null,
   "metadata": {},
   "outputs": [],
   "source": []
  }
 ],
 "metadata": {
  "kernelspec": {
   "display_name": "Python 3",
   "language": "python",
   "name": "python3"
  },
  "language_info": {
   "codemirror_mode": {
    "name": "ipython",
    "version": 3
   },
   "file_extension": ".py",
   "mimetype": "text/x-python",
   "name": "python",
   "nbconvert_exporter": "python",
   "pygments_lexer": "ipython3",
   "version": "3.6.4"
  },
  "toc": {
   "nav_menu": {},
   "number_sections": false,
   "sideBar": true,
   "skip_h1_title": false,
   "title_cell": "Table of Contents",
   "title_sidebar": "Contents",
   "toc_cell": false,
   "toc_position": {},
   "toc_section_display": true,
   "toc_window_display": false
  }
 },
 "nbformat": 4,
 "nbformat_minor": 2
}
