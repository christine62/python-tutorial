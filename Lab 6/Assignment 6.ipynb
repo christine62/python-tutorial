{
 "cells": [
  {
   "cell_type": "markdown",
   "metadata": {},
   "source": [
    "1. Read csv \"major_us_cities_edges.csv\"  \n",
    "2. Load the undirected network graph with weight. (Edges correspond to connections that our distribution network can make between cities with the weight attribute corresponding to the cost of traveling over that connection.)\n",
    "3. Draw the graph.  \n",
    "3. Find the degree centrality, closeness centrality, normalized betweeness centrality, and eigenvector centrality of node 'Los Angeles, CA'.   \n",
    "4. What is the transitivity and average clustering coefficient of graph?"
   ]
  },
  {
   "cell_type": "code",
   "execution_count": null,
   "metadata": {},
   "outputs": [],
   "source": []
  }
 ],
 "metadata": {
  "kernelspec": {
   "display_name": "Python 3",
   "language": "python",
   "name": "python3"
  },
  "language_info": {
   "codemirror_mode": {
    "name": "ipython",
    "version": 3
   },
   "file_extension": ".py",
   "mimetype": "text/x-python",
   "name": "python",
   "nbconvert_exporter": "python",
   "pygments_lexer": "ipython3",
   "version": "3.6.4"
  },
  "toc": {
   "nav_menu": {},
   "number_sections": false,
   "sideBar": true,
   "skip_h1_title": false,
   "title_cell": "Table of Contents",
   "title_sidebar": "Contents",
   "toc_cell": false,
   "toc_position": {},
   "toc_section_display": true,
   "toc_window_display": false
  }
 },
 "nbformat": 4,
 "nbformat_minor": 2
}
