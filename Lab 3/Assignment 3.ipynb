{
 "cells": [
  {
   "cell_type": "markdown",
   "metadata": {},
   "source": [
    "# practice"
   ]
  },
  {
   "cell_type": "code",
   "execution_count": null,
   "metadata": {},
   "outputs": [],
   "source": [
    "data = {'animal': ['cat', 'cat', 'snake', 'dog', 'dog', 'cat', 'snake', 'cat', 'dog', 'dog'],\n",
    "        'age': [2.5, 3, 0.5, np.nan, 5, 2, 4.5, np.nan, 7, 3],\n",
    "        'visits': [1, 3, 2, 3, 2, 3, 1, 1, 2, 1],\n",
    "        'priority': ['yes', 'yes', 'no', 'yes', 'no', 'no', 'no', 'yes', 'no', 'no']}\n",
    "\n",
    "labels = ['a', 'b', 'c', 'd', 'e', 'f', 'g', 'h', 'i', 'j']"
   ]
  },
  {
   "cell_type": "code",
   "execution_count": null,
   "metadata": {},
   "outputs": [],
   "source": [
    "#Create a DataFrame df from this dictionary data which has the index labels.\n"
   ]
  },
  {
   "cell_type": "code",
   "execution_count": null,
   "metadata": {},
   "outputs": [],
   "source": [
    "#Display a summary of the basic information about this DataFrame and its data.\n"
   ]
  },
  {
   "cell_type": "code",
   "execution_count": null,
   "metadata": {},
   "outputs": [],
   "source": [
    "#Return the first 3 rows of the DataFrame df.\n"
   ]
  },
  {
   "cell_type": "code",
   "execution_count": null,
   "metadata": {},
   "outputs": [],
   "source": [
    "#Select just the 'animal' and 'age' columns from the DataFrame df.\n"
   ]
  },
  {
   "cell_type": "code",
   "execution_count": null,
   "metadata": {},
   "outputs": [],
   "source": [
    "#Select the data in rows [3, 4, 8] and in columns ['animal', 'age'].\n"
   ]
  },
  {
   "cell_type": "code",
   "execution_count": null,
   "metadata": {},
   "outputs": [],
   "source": [
    "#Change the age in row 'f' to 1.5.\n"
   ]
  },
  {
   "cell_type": "code",
   "execution_count": null,
   "metadata": {},
   "outputs": [],
   "source": [
    "#Select only the rows where the number of visits is greater than 2.\n"
   ]
  },
  {
   "cell_type": "code",
   "execution_count": null,
   "metadata": {},
   "outputs": [],
   "source": [
    "#Sort df first by the values in the 'age' in decending order, then by the value in the 'visit' column in ascending order.\n"
   ]
  },
  {
   "cell_type": "code",
   "execution_count": null,
   "metadata": {},
   "outputs": [],
   "source": [
    "#Count the number of each type of animal in df.\n"
   ]
  },
  {
   "cell_type": "code",
   "execution_count": null,
   "metadata": {},
   "outputs": [],
   "source": [
    "#Select the rows where the age is missing, i.e. is NaN.\n"
   ]
  },
  {
   "cell_type": "markdown",
   "metadata": {},
   "source": [
    "# Assignment"
   ]
  },
  {
   "cell_type": "markdown",
   "metadata": {},
   "source": [
    "* Read \"cars.csv\" as a dataframe with the first row in the csv file as column names\n",
    "   * Sort the data by \"cylinders\" and \"mpg\" in decending order and report the first three rows after sorting\n",
    "   * Create a new column called \"brand\" to store the brand name as the first word in \"car\" column (hint: use \"apply\" function)\n",
    "   * Show the mean, min, and max acceleration values by \"cylinders\" for each of these brands: \"ford\", \"buick\" and \"honda\"\n",
    "   * (bonus)Create a cross tab to show the average mpg of each brand and each clinder value. Use \"brand\" as row index and \"clinders\" as column index. "
   ]
  },
  {
   "cell_type": "markdown",
   "metadata": {},
   "source": [
    "## bonus"
   ]
  },
  {
   "cell_type": "markdown",
   "metadata": {},
   "source": [
    "### 1. analyze the frequency of words in a string (1 point)\n",
    "   * has a string as an input \n",
    "   * splits the string into a list of tokens by space. For example, \"hello world\" will be split into two tokens ['hello','world']\n",
    "   * for the tokens, do the following in sequence:\n",
    "      * strips all leading and trailing space of each token\n",
    "      * removes a token if it contain no more than 1 character (use function *len* on each token, i.e. *len*(token)<=1)\n",
    "      * converts all tokens into lower case\n",
    "   * create a dictionary containing the count of every remaining token, e.g. {'is': 5, 'hello':1,...}\n",
    "   * returns the dictionary as the output\n",
    "     \n",
    "\n",
    "### 2.  data cleaning (1 point)\n",
    "* For airbnb listing, clean the dataset, choose approaches which you think are reasonable to handle all missing values.  \n",
    "* Convert 'host_response_rate' and 'price' to number.  \n"
   ]
  },
  {
   "cell_type": "code",
   "execution_count": null,
   "metadata": {},
   "outputs": [],
   "source": [
    "text='''Hello world!\n",
    "        This is a hello world example !'''\n",
    "token_count={}\n",
    "#add your code\n"
   ]
  }
 ],
 "metadata": {
  "kernelspec": {
   "display_name": "Python 3",
   "language": "python",
   "name": "python3"
  },
  "language_info": {
   "codemirror_mode": {
    "name": "ipython",
    "version": 3
   },
   "file_extension": ".py",
   "mimetype": "text/x-python",
   "name": "python",
   "nbconvert_exporter": "python",
   "pygments_lexer": "ipython3",
   "version": "3.6.4"
  },
  "toc": {
   "nav_menu": {},
   "number_sections": false,
   "sideBar": true,
   "skip_h1_title": false,
   "title_cell": "Table of Contents",
   "title_sidebar": "Contents",
   "toc_cell": false,
   "toc_position": {},
   "toc_section_display": true,
   "toc_window_display": false
  }
 },
 "nbformat": 4,
 "nbformat_minor": 2
}
